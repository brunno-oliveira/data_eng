{
 "metadata": {
  "language_info": {
   "codemirror_mode": {
    "name": "ipython",
    "version": 3
   },
   "file_extension": ".py",
   "mimetype": "text/x-python",
   "name": "python",
   "nbconvert_exporter": "python",
   "pygments_lexer": "ipython3",
   "version": "3.7.9"
  },
  "orig_nbformat": 2,
  "kernelspec": {
   "name": "python379jvsc74a57bd011788d199534453b3091baa8e21d49a7afe3aaf89a016b3a09f594b82a19522e",
   "display_name": "Python 3.7.9 64-bit"
  },
  "metadata": {
   "interpreter": {
    "hash": "11788d199534453b3091baa8e21d49a7afe3aaf89a016b3a09f594b82a19522e"
   }
  }
 },
 "nbformat": 4,
 "nbformat_minor": 2,
 "cells": [
  {
   "source": [
    "import pandas as pd"
   ],
   "cell_type": "code",
   "metadata": {},
   "execution_count": 1,
   "outputs": []
  },
  {
   "cell_type": "code",
   "execution_count": 2,
   "metadata": {},
   "outputs": [],
   "source": [
    "df = pd.read_json('data.json')"
   ]
  },
  {
   "cell_type": "code",
   "execution_count": 5,
   "metadata": {},
   "outputs": [],
   "source": [
    "df_nfe = df[['NFeNumber','CreateDate','EmissionDate','Discount','NFeID']].copy()"
   ]
  },
  {
   "cell_type": "code",
   "execution_count": 6,
   "metadata": {},
   "outputs": [
    {
     "output_type": "execute_result",
     "data": {
      "text/plain": [
       "   NFeNumber              CreateDate         EmissionDate  Discount  NFeID\n",
       "0        501  2021-05-24T20:21:34.79  2021-05-24T00:00:00         0      1\n",
       "1        502  2021-05-24T20:21:34.79  2021-05-24T00:00:00         0      2\n",
       "2        503  2021-05-24T20:21:34.79  2021-05-24T00:00:00         0      3"
      ],
      "text/html": "<div>\n<style scoped>\n    .dataframe tbody tr th:only-of-type {\n        vertical-align: middle;\n    }\n\n    .dataframe tbody tr th {\n        vertical-align: top;\n    }\n\n    .dataframe thead th {\n        text-align: right;\n    }\n</style>\n<table border=\"1\" class=\"dataframe\">\n  <thead>\n    <tr style=\"text-align: right;\">\n      <th></th>\n      <th>NFeNumber</th>\n      <th>CreateDate</th>\n      <th>EmissionDate</th>\n      <th>Discount</th>\n      <th>NFeID</th>\n    </tr>\n  </thead>\n  <tbody>\n    <tr>\n      <th>0</th>\n      <td>501</td>\n      <td>2021-05-24T20:21:34.79</td>\n      <td>2021-05-24T00:00:00</td>\n      <td>0</td>\n      <td>1</td>\n    </tr>\n    <tr>\n      <th>1</th>\n      <td>502</td>\n      <td>2021-05-24T20:21:34.79</td>\n      <td>2021-05-24T00:00:00</td>\n      <td>0</td>\n      <td>2</td>\n    </tr>\n    <tr>\n      <th>2</th>\n      <td>503</td>\n      <td>2021-05-24T20:21:34.79</td>\n      <td>2021-05-24T00:00:00</td>\n      <td>0</td>\n      <td>3</td>\n    </tr>\n  </tbody>\n</table>\n</div>"
     },
     "metadata": {},
     "execution_count": 6
    }
   ],
   "source": [
    "df_nfe"
   ]
  },
  {
   "cell_type": "code",
   "execution_count": 8,
   "metadata": {},
   "outputs": [
    {
     "output_type": "execute_result",
     "data": {
      "text/plain": [
       "   NFeNumber                                           ItemList\n",
       "0        501  [{'ProductName': 'Rice', 'Value': 35.55, 'Quan...\n",
       "1        502  [{'ProductName': 'Tomate', 'Value': 12.25, 'Qu...\n",
       "2        503  [{'ProductName': 'Beer', 'Value': 9.0, 'Quanti..."
      ],
      "text/html": "<div>\n<style scoped>\n    .dataframe tbody tr th:only-of-type {\n        vertical-align: middle;\n    }\n\n    .dataframe tbody tr th {\n        vertical-align: top;\n    }\n\n    .dataframe thead th {\n        text-align: right;\n    }\n</style>\n<table border=\"1\" class=\"dataframe\">\n  <thead>\n    <tr style=\"text-align: right;\">\n      <th></th>\n      <th>NFeNumber</th>\n      <th>ItemList</th>\n    </tr>\n  </thead>\n  <tbody>\n    <tr>\n      <th>0</th>\n      <td>501</td>\n      <td>[{'ProductName': 'Rice', 'Value': 35.55, 'Quan...</td>\n    </tr>\n    <tr>\n      <th>1</th>\n      <td>502</td>\n      <td>[{'ProductName': 'Tomate', 'Value': 12.25, 'Qu...</td>\n    </tr>\n    <tr>\n      <th>2</th>\n      <td>503</td>\n      <td>[{'ProductName': 'Beer', 'Value': 9.0, 'Quanti...</td>\n    </tr>\n  </tbody>\n</table>\n</div>"
     },
     "metadata": {},
     "execution_count": 8
    }
   ],
   "source": [
    "df[['NFeNumber','ItemList']]"
   ]
  },
  {
   "cell_type": "code",
   "execution_count": 45,
   "metadata": {},
   "outputs": [],
   "source": [
    "df_itens = []\n",
    "for nfe in df['NFeNumber'].unique():\n",
    "    df_item = pd.json_normalize(df[df['NFeNumber'] == nfe]['ItemList'].values[0])\n",
    "    df_item['NFeNumber'] = nfe\n",
    "\n",
    "    col = df_item.pop(\"NFeNumber\")\n",
    "    df_item.insert(0, col.name, col)\n",
    "\n",
    "    df_itens.append(df_item)\n",
    "\n",
    "df_item = pd.concat(df_itens)    "
   ]
  },
  {
   "cell_type": "code",
   "execution_count": 46,
   "metadata": {},
   "outputs": [
    {
     "output_type": "execute_result",
     "data": {
      "text/plain": [
       "   NFeNumber   ProductName  Value  Quantity\n",
       "0        501          Rice  35.55         2\n",
       "1        501         Flour  11.55         5\n",
       "2        501          Bean  27.15         7\n",
       "0        502        Tomate  12.25        10\n",
       "1        502         Pasta   7.55         5\n",
       "0        503          Beer   9.00         6\n",
       "1        503  French fries  10.99         2\n",
       "2        503     Ice cream  27.15         1"
      ],
      "text/html": "<div>\n<style scoped>\n    .dataframe tbody tr th:only-of-type {\n        vertical-align: middle;\n    }\n\n    .dataframe tbody tr th {\n        vertical-align: top;\n    }\n\n    .dataframe thead th {\n        text-align: right;\n    }\n</style>\n<table border=\"1\" class=\"dataframe\">\n  <thead>\n    <tr style=\"text-align: right;\">\n      <th></th>\n      <th>NFeNumber</th>\n      <th>ProductName</th>\n      <th>Value</th>\n      <th>Quantity</th>\n    </tr>\n  </thead>\n  <tbody>\n    <tr>\n      <th>0</th>\n      <td>501</td>\n      <td>Rice</td>\n      <td>35.55</td>\n      <td>2</td>\n    </tr>\n    <tr>\n      <th>1</th>\n      <td>501</td>\n      <td>Flour</td>\n      <td>11.55</td>\n      <td>5</td>\n    </tr>\n    <tr>\n      <th>2</th>\n      <td>501</td>\n      <td>Bean</td>\n      <td>27.15</td>\n      <td>7</td>\n    </tr>\n    <tr>\n      <th>0</th>\n      <td>502</td>\n      <td>Tomate</td>\n      <td>12.25</td>\n      <td>10</td>\n    </tr>\n    <tr>\n      <th>1</th>\n      <td>502</td>\n      <td>Pasta</td>\n      <td>7.55</td>\n      <td>5</td>\n    </tr>\n    <tr>\n      <th>0</th>\n      <td>503</td>\n      <td>Beer</td>\n      <td>9.00</td>\n      <td>6</td>\n    </tr>\n    <tr>\n      <th>1</th>\n      <td>503</td>\n      <td>French fries</td>\n      <td>10.99</td>\n      <td>2</td>\n    </tr>\n    <tr>\n      <th>2</th>\n      <td>503</td>\n      <td>Ice cream</td>\n      <td>27.15</td>\n      <td>1</td>\n    </tr>\n  </tbody>\n</table>\n</div>"
     },
     "metadata": {},
     "execution_count": 46
    }
   ],
   "source": [
    "df_item"
   ]
  }
 ]
}